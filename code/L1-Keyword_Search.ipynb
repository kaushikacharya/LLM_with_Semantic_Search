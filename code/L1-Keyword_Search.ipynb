{
 "cells": [
  {
   "cell_type": "markdown",
   "metadata": {},
   "source": [
    "# Keyword Search"
   ]
  },
  {
   "cell_type": "markdown",
   "metadata": {},
   "source": [
    "## Setup\n",
    "\n",
    "Load needed API keys and relevant Python libaries."
   ]
  },
  {
   "cell_type": "code",
   "execution_count": 1,
   "metadata": {},
   "outputs": [
    {
     "name": "stdout",
     "output_type": "stream",
     "text": [
      "Requirement already satisfied: cohere in /home/kaushik/miniconda3/envs/py3/lib/python3.10/site-packages (5.0.0)\n",
      "Requirement already satisfied: typing_extensions>=4.0.0 in /home/kaushik/miniconda3/envs/py3/lib/python3.10/site-packages (from cohere) (4.10.0)\n",
      "Requirement already satisfied: httpx>=0.21.2 in /home/kaushik/miniconda3/envs/py3/lib/python3.10/site-packages (from cohere) (0.27.0)\n",
      "Requirement already satisfied: pydantic>=1.9.2 in /home/kaushik/miniconda3/envs/py3/lib/python3.10/site-packages (from cohere) (2.6.4)\n",
      "Requirement already satisfied: sniffio in /home/kaushik/miniconda3/envs/py3/lib/python3.10/site-packages (from httpx>=0.21.2->cohere) (1.3.1)\n",
      "Requirement already satisfied: anyio in /home/kaushik/miniconda3/envs/py3/lib/python3.10/site-packages (from httpx>=0.21.2->cohere) (4.3.0)\n",
      "Requirement already satisfied: certifi in /home/kaushik/miniconda3/envs/py3/lib/python3.10/site-packages (from httpx>=0.21.2->cohere) (2023.7.22)\n",
      "Requirement already satisfied: idna in /home/kaushik/miniconda3/envs/py3/lib/python3.10/site-packages (from httpx>=0.21.2->cohere) (3.4)\n",
      "Requirement already satisfied: httpcore==1.* in /home/kaushik/miniconda3/envs/py3/lib/python3.10/site-packages (from httpx>=0.21.2->cohere) (1.0.4)\n",
      "Requirement already satisfied: h11<0.15,>=0.13 in /home/kaushik/miniconda3/envs/py3/lib/python3.10/site-packages (from httpcore==1.*->httpx>=0.21.2->cohere) (0.14.0)\n",
      "Requirement already satisfied: annotated-types>=0.4.0 in /home/kaushik/miniconda3/envs/py3/lib/python3.10/site-packages (from pydantic>=1.9.2->cohere) (0.6.0)\n",
      "Requirement already satisfied: pydantic-core==2.16.3 in /home/kaushik/miniconda3/envs/py3/lib/python3.10/site-packages (from pydantic>=1.9.2->cohere) (2.16.3)\n",
      "Requirement already satisfied: exceptiongroup>=1.0.2 in /home/kaushik/miniconda3/envs/py3/lib/python3.10/site-packages (from anyio->httpx>=0.21.2->cohere) (1.1.3)\n",
      "Note: you may need to restart the kernel to use updated packages.\n",
      "Requirement already satisfied: weaviate-client in /home/kaushik/miniconda3/envs/py3/lib/python3.10/site-packages (4.5.4)\n",
      "Requirement already satisfied: validators==0.22.0 in /home/kaushik/miniconda3/envs/py3/lib/python3.10/site-packages (from weaviate-client) (0.22.0)\n",
      "Requirement already satisfied: grpcio-tools<2.0.0,>=1.57.0 in /home/kaushik/miniconda3/envs/py3/lib/python3.10/site-packages (from weaviate-client) (1.62.1)\n",
      "Requirement already satisfied: httpx==0.27.0 in /home/kaushik/miniconda3/envs/py3/lib/python3.10/site-packages (from weaviate-client) (0.27.0)\n",
      "Requirement already satisfied: grpcio-health-checking<2.0.0,>=1.57.0 in /home/kaushik/miniconda3/envs/py3/lib/python3.10/site-packages (from weaviate-client) (1.62.1)\n",
      "Requirement already satisfied: authlib<2.0.0,>=1.2.1 in /home/kaushik/miniconda3/envs/py3/lib/python3.10/site-packages (from weaviate-client) (1.3.0)\n",
      "Requirement already satisfied: pydantic<3.0.0,>=2.5.0 in /home/kaushik/miniconda3/envs/py3/lib/python3.10/site-packages (from weaviate-client) (2.6.4)\n",
      "Requirement already satisfied: requests<3.0.0,>=2.30.0 in /home/kaushik/miniconda3/envs/py3/lib/python3.10/site-packages (from weaviate-client) (2.31.0)\n",
      "Requirement already satisfied: grpcio<2.0.0,>=1.57.0 in /home/kaushik/miniconda3/envs/py3/lib/python3.10/site-packages (from weaviate-client) (1.62.1)\n",
      "Requirement already satisfied: sniffio in /home/kaushik/miniconda3/envs/py3/lib/python3.10/site-packages (from httpx==0.27.0->weaviate-client) (1.3.1)\n",
      "Requirement already satisfied: httpcore==1.* in /home/kaushik/miniconda3/envs/py3/lib/python3.10/site-packages (from httpx==0.27.0->weaviate-client) (1.0.4)\n",
      "Requirement already satisfied: certifi in /home/kaushik/miniconda3/envs/py3/lib/python3.10/site-packages (from httpx==0.27.0->weaviate-client) (2023.7.22)\n",
      "Requirement already satisfied: anyio in /home/kaushik/miniconda3/envs/py3/lib/python3.10/site-packages (from httpx==0.27.0->weaviate-client) (4.3.0)\n",
      "Requirement already satisfied: idna in /home/kaushik/miniconda3/envs/py3/lib/python3.10/site-packages (from httpx==0.27.0->weaviate-client) (3.4)\n",
      "Requirement already satisfied: h11<0.15,>=0.13 in /home/kaushik/miniconda3/envs/py3/lib/python3.10/site-packages (from httpcore==1.*->httpx==0.27.0->weaviate-client) (0.14.0)\n",
      "Requirement already satisfied: cryptography in /home/kaushik/miniconda3/envs/py3/lib/python3.10/site-packages (from authlib<2.0.0,>=1.2.1->weaviate-client) (38.0.4)\n",
      "Requirement already satisfied: protobuf>=4.21.6 in /home/kaushik/miniconda3/envs/py3/lib/python3.10/site-packages (from grpcio-health-checking<2.0.0,>=1.57.0->weaviate-client) (4.25.3)\n",
      "Requirement already satisfied: setuptools in /home/kaushik/miniconda3/envs/py3/lib/python3.10/site-packages (from grpcio-tools<2.0.0,>=1.57.0->weaviate-client) (65.6.3)\n",
      "Requirement already satisfied: typing-extensions>=4.6.1 in /home/kaushik/miniconda3/envs/py3/lib/python3.10/site-packages (from pydantic<3.0.0,>=2.5.0->weaviate-client) (4.10.0)\n",
      "Requirement already satisfied: pydantic-core==2.16.3 in /home/kaushik/miniconda3/envs/py3/lib/python3.10/site-packages (from pydantic<3.0.0,>=2.5.0->weaviate-client) (2.16.3)\n",
      "Requirement already satisfied: annotated-types>=0.4.0 in /home/kaushik/miniconda3/envs/py3/lib/python3.10/site-packages (from pydantic<3.0.0,>=2.5.0->weaviate-client) (0.6.0)\n",
      "Requirement already satisfied: charset-normalizer<4,>=2 in /home/kaushik/miniconda3/envs/py3/lib/python3.10/site-packages (from requests<3.0.0,>=2.30.0->weaviate-client) (2.0.4)\n",
      "Requirement already satisfied: urllib3<3,>=1.21.1 in /home/kaushik/miniconda3/envs/py3/lib/python3.10/site-packages (from requests<3.0.0,>=2.30.0->weaviate-client) (1.26.14)\n",
      "Requirement already satisfied: exceptiongroup>=1.0.2 in /home/kaushik/miniconda3/envs/py3/lib/python3.10/site-packages (from anyio->httpx==0.27.0->weaviate-client) (1.1.3)\n",
      "Requirement already satisfied: cffi>=1.12 in /home/kaushik/miniconda3/envs/py3/lib/python3.10/site-packages (from cryptography->authlib<2.0.0,>=1.2.1->weaviate-client) (1.15.1)\n",
      "Requirement already satisfied: pycparser in /home/kaushik/miniconda3/envs/py3/lib/python3.10/site-packages (from cffi>=1.12->cryptography->authlib<2.0.0,>=1.2.1->weaviate-client) (2.21)\n",
      "Note: you may need to restart the kernel to use updated packages.\n"
     ]
    }
   ],
   "source": [
    "%pip install cohere\n",
    "%pip install weaviate-client"
   ]
  },
  {
   "cell_type": "code",
   "execution_count": 2,
   "metadata": {},
   "outputs": [
    {
     "name": "stdout",
     "output_type": "stream",
     "text": [
      "Requirement already satisfied: python-dotenv in /home/kaushik/miniconda3/envs/py3/lib/python3.10/site-packages (1.0.1)\n",
      "Note: you may need to restart the kernel to use updated packages.\n"
     ]
    }
   ],
   "source": [
    "%pip install python-dotenv"
   ]
  },
  {
   "cell_type": "code",
   "execution_count": 3,
   "metadata": {},
   "outputs": [],
   "source": [
    "import os\n",
    "from dotenv import load_dotenv, find_dotenv\n",
    "\n",
    "_ = load_dotenv(find_dotenv())  # read local .env file"
   ]
  },
  {
   "cell_type": "markdown",
   "metadata": {},
   "source": [
    "Let's start by importing Weaviate to access the Wikipedia database."
   ]
  },
  {
   "cell_type": "code",
   "execution_count": 4,
   "metadata": {},
   "outputs": [],
   "source": [
    "import weaviate\n",
    "\n",
    "WEAVIATE_API_KEY = \"76320a90-53d8-42bc-b41d-678647c6672e\"\n",
    " \n",
    "auth_config = weaviate.auth.AuthApiKey(\n",
    "    api_key=WEAVIATE_API_KEY)  # os.environ['WEAVIATE_API_KEY']"
   ]
  },
  {
   "cell_type": "code",
   "execution_count": 5,
   "metadata": {},
   "outputs": [
    {
     "data": {
      "text/plain": [
       "_APIKey(api_key='76320a90-53d8-42bc-b41d-678647c6672e')"
      ]
     },
     "execution_count": 5,
     "metadata": {},
     "output_type": "execute_result"
    }
   ],
   "source": [
    "auth_config"
   ]
  },
  {
   "cell_type": "code",
   "execution_count": 6,
   "metadata": {},
   "outputs": [
    {
     "name": "stderr",
     "output_type": "stream",
     "text": [
      "/home/kaushik/miniconda3/envs/py3/lib/python3.10/site-packages/weaviate/warnings.py:158: DeprecationWarning: Dep016: You are using the Weaviate v3 client, which is deprecated.\n",
      "            Consider upgrading to the new and improved v4 client instead!\n",
      "            See here for usage: https://weaviate.io/developers/weaviate/client-libraries/python\n",
      "            \n",
      "  warnings.warn(\n"
     ]
    }
   ],
   "source": [
    "COHERE_API_KEY = \"Replace with your Cohere API key\"\n",
    "url = \"https://cohere-demo.weaviate.network/\"\n",
    "\n",
    "client = weaviate.Client(\n",
    "    url=url, # os.environ[\"WEAVIATE_API_URL\"]\n",
    "    auth_client_secret=auth_config,\n",
    "    additional_headers={\n",
    "        \"X-Cohere-Api-Key\": COHERE_API_KEY, # os.environ['COHERE_API_KEY']\n",
    "    }\n",
    ")"
   ]
  },
  {
   "cell_type": "code",
   "execution_count": 7,
   "metadata": {},
   "outputs": [
    {
     "data": {
      "text/plain": [
       "True"
      ]
     },
     "execution_count": 7,
     "metadata": {},
     "output_type": "execute_result"
    }
   ],
   "source": [
    "client.is_ready()"
   ]
  },
  {
   "cell_type": "markdown",
   "metadata": {},
   "source": [
    "## Keyword Search"
   ]
  },
  {
   "cell_type": "code",
   "execution_count": 8,
   "metadata": {},
   "outputs": [],
   "source": [
    "def keyword_search(query,\n",
    "                   results_lang=\"en\",\n",
    "                   properties=[\"title\", \"url\", \"text\"],\n",
    "                   num_results=3):\n",
    "    \n",
    "    where_filter = {\n",
    "        \"path\": [\"lang\"],\n",
    "        \"operator\": \"Equal\",\n",
    "        \"valueString\": results_lang\n",
    "    }\n",
    "\n",
    "    response = (\n",
    "        client.query.get(class_name=\"Articles\", properties=properties)\n",
    "        .with_bm25(query=query)\n",
    "        .with_where(where_filter)\n",
    "        .with_limit(num_results)\n",
    "        .do()\n",
    "        )\n",
    "    \n",
    "    result = response[\"data\"][\"Get\"][\"Articles\"]\n",
    "\n",
    "    return result\n",
    "    "
   ]
  },
  {
   "cell_type": "code",
   "execution_count": 12,
   "metadata": {},
   "outputs": [
    {
     "name": "stdout",
     "output_type": "stream",
     "text": [
      "[{'text': 'The most active Gamergate supporters or \"Gamergaters\" said that Gamergate was a movement for ethics in games journalism, for protecting the \"gamer\" identity, and for opposing \"political correctness\" in video games and that any harassment of women was done by others not affiliated with Gamergate. They argued that the close relationships between journalists and developers demonstrated a conspiracy among reviewers to focus on progressive social issues. Some supporters pointed to what they considered disproportionate praise for games such as \"Depression Quest\" and \"Gone Home\", which feature unconventional gameplay and stories with social implications, while they viewed traditional AAA games as downplayed. False claims of the \"ethics in game journalism\" had started as early as 2012, when Geoff Keighley was accused of such unethical behavior when he was presenting information about \"Halo 4\" among advertisements for Mountain Dew and Doritos, an event called \"Doritosgate\" in the gamer culture.', 'title': 'Gamergate (harassment campaign)', 'url': 'https://en.wikipedia.org/wiki?curid=43758363'}, {'text': '\"Rolling Stone\" stated Jackson\\'s Super Bowl performance \"is far and away the most famous moment in the history of the Super Bowl halftime show\". \"PopCrush\" called the performance \"one of the most shocking moments in pop culture\" as well as a \"totally unexpected and unforgettable moment\". \"Gawker\" ranked the performance among the most recent of the \"10 Shows that Advanced Sex on Television\", commenting the set \"had all the elements of a huge story\" and \"within seconds the world searched furtively for pictures\", concluding \"it remains so ubiquitous, it\\'s impossible to look at a starburst nipple shield without thinking \"Janet Jackson\"\". \"E! Online\" ranked it among the top ten most shocking celebrity moments of the prior two decades. A study of television\\'s most impactful moments of the last 50 years conducted by Sony Electronics and the Nielsen Television Research Company ranked Jackson\\'s Super Bowl performance at #26. The incident was the only Super Bowl event on the list and the highest music and entertainment event aside from the death of Whitney Houston. TV Guide Network ranked it at #2 in a 2010 special listing the \"25 Biggest TV Blunders\". \"Complex\" stated \"It\\'s the Citizen Kane of televised nip-slips—so unexpected, and on such a large stage, that nothing else will ever come close. If Beyoncé were to whip out both breasts and put on a puppet show with them when she performs this year in New Orleans, it would rate as just the second most shocking Super Boob display. Janet\\'s strangely ornamented right nipple is a living legend, and so is Justin Timberlake\\'s terrified reaction.\" Music channel Fuse listed it as the most controversial Super Bowl halftime show, saying the \"revealing performance remains (and will forever remain) the craziest thing to ever happen at a halftime show. Almost immediately after the incident, the FCC received a flood of complaints from parents who just wanted their children to enjoy a nice, wholesome three hours of grown men inflicting damaging and long-lasting pain on each other for sport. Halftime shows would never be the same.\" Patrick Gipson of \"Bleacher Report\" ranked it as #1 in its list of the most \"Jaw Dropping Moments of the Last Decade\", stating Janet \"changed the landscape of live television forever\". Gipson explained \"It prompted a million mothers to cover their eyes, fathers and sons to jump out of their seats in shock and numerous sanctions by the Federal Communications Commission, including a US$550,000 fine against CBS. Talk about a halftime show that will be hard to top.\" The incident was also declared \"the most memorable Super Bowl halftime show in history\", as well as \"the most controversial\", adding \"you can\\'t talk about this halftime show, or any subsequent halftime show from here to eternity, without mentioning the wardrobe malfunction\".', 'title': 'Super Bowl XXXVIII halftime show controversy', 'url': 'https://en.wikipedia.org/wiki?curid=498971'}, {'text': 'West Germany (established in May 1949) was not eligible for the 1950 World Cup (the first after the war), and so all preparations were made with a view toward the 1954 matches in Bern, Switzerland. By that time Adidas\\'s football boots were considerably lighter than the ones made before the war, based on English designs. At the World Cup Adi had a secret weapon, which he revealed when West Germany made the finals against the overwhelmingly favored Hungarian team, which was undefeated since May 1950 and had defeated West Germany 8–3 in group play. Despite this defeat, West Germany made the knock-out rounds by twice defeating Turkey handily. The team defeated Yugoslavia and Austria to reach the final (a remarkable achievement), where the hope of many German fans was simply that the team \"avoid another humiliating defeat\" at the hands of the Hungarians. The day of the final began with light rain, which brightened the prospects of the West German team who called it \"\"Fritz Walter-Wetter\"\" because the team\\'s best player excelled in muddy conditions. Dassler informed Herberger before the match of his latest innovation—\"screw in studs.\" Unlike the traditional boot which had fixed leather spike studs, Dassler\\'s shoe allowed spikes of various lengths to be affixed depending on the state of the pitch. As the playing field at Wankdorf Stadium drastically deteriorated, Herberger famously announced, \"Adi, screw them on.\" The longer spikes improved the footing of West German players compared to the Hungarians whose mud-caked boots were also much heavier. The West Germans staged a come from behind upset, winning 3-2, in what became known as the \"Miracle in Bern.\" Herberger publicly praised Dassler as a key contributor to the win, and Adidas\\'s fame rose both in West Germany, where the win was considered a key post-war event in restoring German self-esteem and abroad, where in the first televised World Cup final viewers were introduced to \"the ultimate breakthrough.\"', 'title': 'Adolf Dassler', 'url': 'https://en.wikipedia.org/wiki?curid=2373164'}]\n"
     ]
    }
   ],
   "source": [
    "query = \"What is the most viewed televised event?\"\n",
    "keyword_search_results = keyword_search(query=query)\n",
    "print(keyword_search_results)"
   ]
  },
  {
   "cell_type": "markdown",
   "metadata": {},
   "source": [
    "### Try modifying the search options\n",
    "- Other languages to try: `en, de, fr, es, it, ja, ar, zh, ko, hi`"
   ]
  },
  {
   "cell_type": "code",
   "execution_count": 13,
   "metadata": {},
   "outputs": [],
   "source": [
    "properties = [\"text\", \"title\", \"url\", \"views\", \"lang\"]"
   ]
  },
  {
   "cell_type": "code",
   "execution_count": 14,
   "metadata": {},
   "outputs": [],
   "source": [
    "def print_result(result):\n",
    "    \"\"\"Print results with colorful formatting\"\"\"\n",
    "    for i, item in enumerate(result):\n",
    "        print(f\"item: {i}\")\n",
    "        for key in item.keys():\n",
    "            print(f\"{key}: {item.get(key)}\")\n",
    "            print()\n",
    "        print()"
   ]
  },
  {
   "cell_type": "code",
   "execution_count": 15,
   "metadata": {},
   "outputs": [
    {
     "name": "stdout",
     "output_type": "stream",
     "text": [
      "item: 0\n",
      "text: The most active Gamergate supporters or \"Gamergaters\" said that Gamergate was a movement for ethics in games journalism, for protecting the \"gamer\" identity, and for opposing \"political correctness\" in video games and that any harassment of women was done by others not affiliated with Gamergate. They argued that the close relationships between journalists and developers demonstrated a conspiracy among reviewers to focus on progressive social issues. Some supporters pointed to what they considered disproportionate praise for games such as \"Depression Quest\" and \"Gone Home\", which feature unconventional gameplay and stories with social implications, while they viewed traditional AAA games as downplayed. False claims of the \"ethics in game journalism\" had started as early as 2012, when Geoff Keighley was accused of such unethical behavior when he was presenting information about \"Halo 4\" among advertisements for Mountain Dew and Doritos, an event called \"Doritosgate\" in the gamer culture.\n",
      "\n",
      "title: Gamergate (harassment campaign)\n",
      "\n",
      "url: https://en.wikipedia.org/wiki?curid=43758363\n",
      "\n",
      "\n",
      "item: 1\n",
      "text: \"Rolling Stone\" stated Jackson's Super Bowl performance \"is far and away the most famous moment in the history of the Super Bowl halftime show\". \"PopCrush\" called the performance \"one of the most shocking moments in pop culture\" as well as a \"totally unexpected and unforgettable moment\". \"Gawker\" ranked the performance among the most recent of the \"10 Shows that Advanced Sex on Television\", commenting the set \"had all the elements of a huge story\" and \"within seconds the world searched furtively for pictures\", concluding \"it remains so ubiquitous, it's impossible to look at a starburst nipple shield without thinking \"Janet Jackson\"\". \"E! Online\" ranked it among the top ten most shocking celebrity moments of the prior two decades. A study of television's most impactful moments of the last 50 years conducted by Sony Electronics and the Nielsen Television Research Company ranked Jackson's Super Bowl performance at #26. The incident was the only Super Bowl event on the list and the highest music and entertainment event aside from the death of Whitney Houston. TV Guide Network ranked it at #2 in a 2010 special listing the \"25 Biggest TV Blunders\". \"Complex\" stated \"It's the Citizen Kane of televised nip-slips—so unexpected, and on such a large stage, that nothing else will ever come close. If Beyoncé were to whip out both breasts and put on a puppet show with them when she performs this year in New Orleans, it would rate as just the second most shocking Super Boob display. Janet's strangely ornamented right nipple is a living legend, and so is Justin Timberlake's terrified reaction.\" Music channel Fuse listed it as the most controversial Super Bowl halftime show, saying the \"revealing performance remains (and will forever remain) the craziest thing to ever happen at a halftime show. Almost immediately after the incident, the FCC received a flood of complaints from parents who just wanted their children to enjoy a nice, wholesome three hours of grown men inflicting damaging and long-lasting pain on each other for sport. Halftime shows would never be the same.\" Patrick Gipson of \"Bleacher Report\" ranked it as #1 in its list of the most \"Jaw Dropping Moments of the Last Decade\", stating Janet \"changed the landscape of live television forever\". Gipson explained \"It prompted a million mothers to cover their eyes, fathers and sons to jump out of their seats in shock and numerous sanctions by the Federal Communications Commission, including a US$550,000 fine against CBS. Talk about a halftime show that will be hard to top.\" The incident was also declared \"the most memorable Super Bowl halftime show in history\", as well as \"the most controversial\", adding \"you can't talk about this halftime show, or any subsequent halftime show from here to eternity, without mentioning the wardrobe malfunction\".\n",
      "\n",
      "title: Super Bowl XXXVIII halftime show controversy\n",
      "\n",
      "url: https://en.wikipedia.org/wiki?curid=498971\n",
      "\n",
      "\n",
      "item: 2\n",
      "text: West Germany (established in May 1949) was not eligible for the 1950 World Cup (the first after the war), and so all preparations were made with a view toward the 1954 matches in Bern, Switzerland. By that time Adidas's football boots were considerably lighter than the ones made before the war, based on English designs. At the World Cup Adi had a secret weapon, which he revealed when West Germany made the finals against the overwhelmingly favored Hungarian team, which was undefeated since May 1950 and had defeated West Germany 8–3 in group play. Despite this defeat, West Germany made the knock-out rounds by twice defeating Turkey handily. The team defeated Yugoslavia and Austria to reach the final (a remarkable achievement), where the hope of many German fans was simply that the team \"avoid another humiliating defeat\" at the hands of the Hungarians. The day of the final began with light rain, which brightened the prospects of the West German team who called it \"\"Fritz Walter-Wetter\"\" because the team's best player excelled in muddy conditions. Dassler informed Herberger before the match of his latest innovation—\"screw in studs.\" Unlike the traditional boot which had fixed leather spike studs, Dassler's shoe allowed spikes of various lengths to be affixed depending on the state of the pitch. As the playing field at Wankdorf Stadium drastically deteriorated, Herberger famously announced, \"Adi, screw them on.\" The longer spikes improved the footing of West German players compared to the Hungarians whose mud-caked boots were also much heavier. The West Germans staged a come from behind upset, winning 3-2, in what became known as the \"Miracle in Bern.\" Herberger publicly praised Dassler as a key contributor to the win, and Adidas's fame rose both in West Germany, where the win was considered a key post-war event in restoring German self-esteem and abroad, where in the first televised World Cup final viewers were introduced to \"the ultimate breakthrough.\"\n",
      "\n",
      "title: Adolf Dassler\n",
      "\n",
      "url: https://en.wikipedia.org/wiki?curid=2373164\n",
      "\n",
      "\n"
     ]
    }
   ],
   "source": [
    "print_result(keyword_search_results)"
   ]
  },
  {
   "cell_type": "code",
   "execution_count": 16,
   "metadata": {},
   "outputs": [
    {
     "name": "stdout",
     "output_type": "stream",
     "text": [
      "item: 0\n",
      "text: Das nächste Album \"Extinction Level Event: The Final World Front\", dessen Titel vom Film \"Deep Impact\" inspiriert war, enthielt die Single \"Gimme Some More\", die im Januar 1999 Platz 5 der britischen Charts belegte. Mit Janet Jackson sang er außerdem den Erfolgshit \"What’s It Gonna Be?!\"\n",
      "\n",
      "title: Busta Rhymes\n",
      "\n",
      "url: https://de.wikipedia.org/wiki?curid=238582\n",
      "\n",
      "\n",
      "item: 1\n",
      "text: Der Begriff Strukturalismus ist vom Wort Struktur abgeleitet und wurde vereinzelt seit Mitte des 19. Jahrhunderts verwendet. In der Psychologie wurde er 1907 von James Rowland Angell in einem Aufsatz über Edward Bradford Titchener eingeführt. In der Sprach- und Literaturwissenschaft wurde er seit den 1920er vom Prager linguistischen Kreis verwendet. Dort knüpfte Roman Jakobson an die Schule des Russischen Formalismus an und verwendete den Begriff „Strukturalismus“ erstmals 1929 in einem in der Prager Zeitschrift \"Čin\" auf Tschechisch unter dem Titel \"Romantischer Panslawismus – neue Slawistik\" (\"Romantické všeslovanství — nová slávistika\") veröffentlichten Aufsatz:Were we to comprise the leading idea of present-day science in its most various manifestations, we could hardly find a more appropriate designation than structuralism. Any set of phenomena examined by contemporary science is treated not as a mechanical agglomeration but as a structural whole, and the basic task is to reveal the inner, whether static or developmental, laws of this system. What appears to be the focus of scientific preoccupations is no longer the outer stimulus, but the internal premises of the development; now the mechanical conception of processes yields to the question of their functions.\n",
      "\n",
      "title: Strukturalismus\n",
      "\n",
      "url: https://de.wikipedia.org/wiki?curid=88840\n",
      "\n",
      "\n",
      "item: 2\n",
      "text: Summer of Soul (…Or, When the Revolution Could Not Be Televised) – David Dinerstein, Robert Fyvolent, Joseph Patel und Ahmir „Questlove“ Thompson\n",
      "\n",
      "title: Oscarverleihung 2022\n",
      "\n",
      "url: https://de.wikipedia.org/wiki?curid=11922735\n",
      "\n",
      "\n"
     ]
    }
   ],
   "source": [
    "query = \"What is the most viewed televised event?\"\n",
    "keyword_search_results = keyword_search(query=query, results_lang=\"de\")\n",
    "print_result(keyword_search_results)"
   ]
  },
  {
   "cell_type": "markdown",
   "metadata": {},
   "source": [
    "## How to get your own API key\n",
    "\n",
    "For this course, an API key is provided for you.  If you would like to develop projects with Cohere's API outside of this classroom, you can register for an API key [here](https://dashboard.cohere.ai/welcome/register?utm_source=partner&utm_medium=website&utm_campaign=DeeplearningAI)."
   ]
  }
 ],
 "metadata": {
  "kernelspec": {
   "display_name": "py3",
   "language": "python",
   "name": "python3"
  },
  "language_info": {
   "codemirror_mode": {
    "name": "ipython",
    "version": 3
   },
   "file_extension": ".py",
   "mimetype": "text/x-python",
   "name": "python",
   "nbconvert_exporter": "python",
   "pygments_lexer": "ipython3",
   "version": "3.10.9"
  }
 },
 "nbformat": 4,
 "nbformat_minor": 2
}
