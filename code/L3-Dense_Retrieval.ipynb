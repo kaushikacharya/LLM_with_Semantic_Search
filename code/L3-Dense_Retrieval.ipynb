{
 "cells": [
  {
   "cell_type": "markdown",
   "metadata": {},
   "source": [
    "# Dense Retrieval"
   ]
  },
  {
   "cell_type": "markdown",
   "metadata": {},
   "source": [
    "### Setup\n",
    "Load needed API keys and relevant Python libaries."
   ]
  },
  {
   "cell_type": "code",
   "execution_count": 1,
   "metadata": {},
   "outputs": [
    {
     "name": "stdout",
     "output_type": "stream",
     "text": [
      "Requirement already satisfied: cohere in /home/kaushik/miniconda3/envs/py3/lib/python3.10/site-packages (5.0.0)\n",
      "Requirement already satisfied: httpx>=0.21.2 in /home/kaushik/miniconda3/envs/py3/lib/python3.10/site-packages (from cohere) (0.27.0)\n",
      "Requirement already satisfied: typing_extensions>=4.0.0 in /home/kaushik/miniconda3/envs/py3/lib/python3.10/site-packages (from cohere) (4.10.0)\n",
      "Requirement already satisfied: pydantic>=1.9.2 in /home/kaushik/miniconda3/envs/py3/lib/python3.10/site-packages (from cohere) (2.6.4)\n",
      "Requirement already satisfied: anyio in /home/kaushik/miniconda3/envs/py3/lib/python3.10/site-packages (from httpx>=0.21.2->cohere) (4.3.0)\n",
      "Requirement already satisfied: sniffio in /home/kaushik/miniconda3/envs/py3/lib/python3.10/site-packages (from httpx>=0.21.2->cohere) (1.3.1)\n",
      "Requirement already satisfied: certifi in /home/kaushik/miniconda3/envs/py3/lib/python3.10/site-packages (from httpx>=0.21.2->cohere) (2023.7.22)\n",
      "Requirement already satisfied: httpcore==1.* in /home/kaushik/miniconda3/envs/py3/lib/python3.10/site-packages (from httpx>=0.21.2->cohere) (1.0.4)\n",
      "Requirement already satisfied: idna in /home/kaushik/miniconda3/envs/py3/lib/python3.10/site-packages (from httpx>=0.21.2->cohere) (3.4)\n",
      "Requirement already satisfied: h11<0.15,>=0.13 in /home/kaushik/miniconda3/envs/py3/lib/python3.10/site-packages (from httpcore==1.*->httpx>=0.21.2->cohere) (0.14.0)\n",
      "Requirement already satisfied: annotated-types>=0.4.0 in /home/kaushik/miniconda3/envs/py3/lib/python3.10/site-packages (from pydantic>=1.9.2->cohere) (0.6.0)\n",
      "Requirement already satisfied: pydantic-core==2.16.3 in /home/kaushik/miniconda3/envs/py3/lib/python3.10/site-packages (from pydantic>=1.9.2->cohere) (2.16.3)\n",
      "Requirement already satisfied: exceptiongroup>=1.0.2 in /home/kaushik/miniconda3/envs/py3/lib/python3.10/site-packages (from anyio->httpx>=0.21.2->cohere) (1.1.3)\n",
      "Note: you may need to restart the kernel to use updated packages.\n",
      "Requirement already satisfied: weaviate-client in /home/kaushik/miniconda3/envs/py3/lib/python3.10/site-packages (4.5.4)\n",
      "Requirement already satisfied: Annoy in /home/kaushik/miniconda3/envs/py3/lib/python3.10/site-packages (1.17.3)\n",
      "Requirement already satisfied: grpcio-health-checking<2.0.0,>=1.57.0 in /home/kaushik/miniconda3/envs/py3/lib/python3.10/site-packages (from weaviate-client) (1.62.1)\n",
      "Requirement already satisfied: grpcio<2.0.0,>=1.57.0 in /home/kaushik/miniconda3/envs/py3/lib/python3.10/site-packages (from weaviate-client) (1.62.1)\n",
      "Requirement already satisfied: pydantic<3.0.0,>=2.5.0 in /home/kaushik/miniconda3/envs/py3/lib/python3.10/site-packages (from weaviate-client) (2.6.4)\n",
      "Requirement already satisfied: authlib<2.0.0,>=1.2.1 in /home/kaushik/miniconda3/envs/py3/lib/python3.10/site-packages (from weaviate-client) (1.3.0)\n",
      "Requirement already satisfied: requests<3.0.0,>=2.30.0 in /home/kaushik/miniconda3/envs/py3/lib/python3.10/site-packages (from weaviate-client) (2.31.0)\n",
      "Requirement already satisfied: httpx==0.27.0 in /home/kaushik/miniconda3/envs/py3/lib/python3.10/site-packages (from weaviate-client) (0.27.0)\n",
      "Requirement already satisfied: validators==0.22.0 in /home/kaushik/miniconda3/envs/py3/lib/python3.10/site-packages (from weaviate-client) (0.22.0)\n",
      "Requirement already satisfied: grpcio-tools<2.0.0,>=1.57.0 in /home/kaushik/miniconda3/envs/py3/lib/python3.10/site-packages (from weaviate-client) (1.62.1)\n",
      "Requirement already satisfied: certifi in /home/kaushik/miniconda3/envs/py3/lib/python3.10/site-packages (from httpx==0.27.0->weaviate-client) (2023.7.22)\n",
      "Requirement already satisfied: idna in /home/kaushik/miniconda3/envs/py3/lib/python3.10/site-packages (from httpx==0.27.0->weaviate-client) (3.4)\n",
      "Requirement already satisfied: httpcore==1.* in /home/kaushik/miniconda3/envs/py3/lib/python3.10/site-packages (from httpx==0.27.0->weaviate-client) (1.0.4)\n",
      "Requirement already satisfied: anyio in /home/kaushik/miniconda3/envs/py3/lib/python3.10/site-packages (from httpx==0.27.0->weaviate-client) (4.3.0)\n",
      "Requirement already satisfied: sniffio in /home/kaushik/miniconda3/envs/py3/lib/python3.10/site-packages (from httpx==0.27.0->weaviate-client) (1.3.1)\n",
      "Requirement already satisfied: h11<0.15,>=0.13 in /home/kaushik/miniconda3/envs/py3/lib/python3.10/site-packages (from httpcore==1.*->httpx==0.27.0->weaviate-client) (0.14.0)\n",
      "Requirement already satisfied: cryptography in /home/kaushik/miniconda3/envs/py3/lib/python3.10/site-packages (from authlib<2.0.0,>=1.2.1->weaviate-client) (38.0.4)\n",
      "Requirement already satisfied: protobuf>=4.21.6 in /home/kaushik/miniconda3/envs/py3/lib/python3.10/site-packages (from grpcio-health-checking<2.0.0,>=1.57.0->weaviate-client) (4.25.3)\n",
      "Requirement already satisfied: setuptools in /home/kaushik/miniconda3/envs/py3/lib/python3.10/site-packages (from grpcio-tools<2.0.0,>=1.57.0->weaviate-client) (65.6.3)\n",
      "Requirement already satisfied: pydantic-core==2.16.3 in /home/kaushik/miniconda3/envs/py3/lib/python3.10/site-packages (from pydantic<3.0.0,>=2.5.0->weaviate-client) (2.16.3)\n",
      "Requirement already satisfied: typing-extensions>=4.6.1 in /home/kaushik/miniconda3/envs/py3/lib/python3.10/site-packages (from pydantic<3.0.0,>=2.5.0->weaviate-client) (4.10.0)\n",
      "Requirement already satisfied: annotated-types>=0.4.0 in /home/kaushik/miniconda3/envs/py3/lib/python3.10/site-packages (from pydantic<3.0.0,>=2.5.0->weaviate-client) (0.6.0)\n",
      "Requirement already satisfied: urllib3<3,>=1.21.1 in /home/kaushik/miniconda3/envs/py3/lib/python3.10/site-packages (from requests<3.0.0,>=2.30.0->weaviate-client) (1.26.14)\n",
      "Requirement already satisfied: charset-normalizer<4,>=2 in /home/kaushik/miniconda3/envs/py3/lib/python3.10/site-packages (from requests<3.0.0,>=2.30.0->weaviate-client) (2.0.4)\n",
      "Requirement already satisfied: exceptiongroup>=1.0.2 in /home/kaushik/miniconda3/envs/py3/lib/python3.10/site-packages (from anyio->httpx==0.27.0->weaviate-client) (1.1.3)\n",
      "Requirement already satisfied: cffi>=1.12 in /home/kaushik/miniconda3/envs/py3/lib/python3.10/site-packages (from cryptography->authlib<2.0.0,>=1.2.1->weaviate-client) (1.15.1)\n",
      "Requirement already satisfied: pycparser in /home/kaushik/miniconda3/envs/py3/lib/python3.10/site-packages (from cffi>=1.12->cryptography->authlib<2.0.0,>=1.2.1->weaviate-client) (2.21)\n",
      "Note: you may need to restart the kernel to use updated packages.\n"
     ]
    }
   ],
   "source": [
    "%pip install cohere\n",
    "%pip install weaviate-client Annoy"
   ]
  },
  {
   "cell_type": "code",
   "execution_count": 2,
   "metadata": {},
   "outputs": [],
   "source": [
    "import os\n",
    "from dotenv import load_dotenv, find_dotenv\n",
    "\n",
    "_ = load_dotenv(dotenv_path=find_dotenv())  # read local .env file"
   ]
  },
  {
   "cell_type": "code",
   "execution_count": 3,
   "metadata": {},
   "outputs": [],
   "source": [
    "import cohere\n",
    "COHERE_API_KEY = \"Replace with your COHERE API key\"\n",
    "\n",
    "co = cohere.Client(api_key=COHERE_API_KEY)"
   ]
  },
  {
   "cell_type": "code",
   "execution_count": 4,
   "metadata": {},
   "outputs": [],
   "source": [
    "import weaviate\n",
    "\n",
    "WEAVIATE_API_KEY = \"76320a90-53d8-42bc-b41d-678647c6672e\"\n",
    " \n",
    "auth_config = weaviate.auth.AuthApiKey(\n",
    "    api_key=WEAVIATE_API_KEY)  # os.environ['WEAVIATE_API_KEY']"
   ]
  },
  {
   "cell_type": "code",
   "execution_count": 5,
   "metadata": {},
   "outputs": [
    {
     "name": "stderr",
     "output_type": "stream",
     "text": [
      "/home/kaushik/miniconda3/envs/py3/lib/python3.10/site-packages/weaviate/warnings.py:158: DeprecationWarning: Dep016: You are using the Weaviate v3 client, which is deprecated.\n",
      "            Consider upgrading to the new and improved v4 client instead!\n",
      "            See here for usage: https://weaviate.io/developers/weaviate/client-libraries/python\n",
      "            \n",
      "  warnings.warn(\n"
     ]
    },
    {
     "data": {
      "text/plain": [
       "True"
      ]
     },
     "execution_count": 5,
     "metadata": {},
     "output_type": "execute_result"
    }
   ],
   "source": [
    "COHERE_API_KEY = \"d2DdEUwMTAMkGAMTR5SKyZ8hoG8dgYD5oY7LBNm2\"\n",
    "url = \"https://cohere-demo.weaviate.network/\"\n",
    "\n",
    "client = weaviate.Client(\n",
    "    url=url, # os.environ[\"WEAVIATE_API_URL\"]\n",
    "    auth_client_secret=auth_config,\n",
    "    additional_headers={\n",
    "        \"X-Cohere-Api-Key\": COHERE_API_KEY, # os.environ['COHERE_API_KEY']\n",
    "    }\n",
    ")\n",
    "\n",
    "client.is_ready()  # check if True"
   ]
  },
  {
   "cell_type": "markdown",
   "metadata": {},
   "source": [
    "## Part 1: Vector Database for Semantic Search"
   ]
  },
  {
   "cell_type": "code",
   "execution_count": 6,
   "metadata": {},
   "outputs": [],
   "source": [
    "def dense_retrieval(query,\n",
    "                    results_lang=\"en\",\n",
    "                    properties=[\"text\", \"title\", \"url\", \"views\", \"lang\", \"_additional {distance}\"],\n",
    "                    num_results=5):\n",
    "\n",
    "    nearText = {\"concepts\": [query]}\n",
    "\n",
    "    # To filter by languague\n",
    "    where_filter = {\n",
    "        \"path\": [\"lang\"],\n",
    "        \"operator\": \"Equal\",\n",
    "        \"valueString\": results_lang\n",
    "    }\n",
    "\n",
    "    response = (\n",
    "        client.query\n",
    "        .get(\"Articles\", properties)\n",
    "        .with_near_text(nearText)\n",
    "        .with_where(where_filter)\n",
    "        .with_limit(num_results)\n",
    "        .do()\n",
    "    )\n",
    "\n",
    "    result = response[\"data\"][\"Get\"][\"Articles\"]\n",
    "\n",
    "    return result"
   ]
  },
  {
   "cell_type": "code",
   "execution_count": 7,
   "metadata": {},
   "outputs": [
    {
     "name": "stderr",
     "output_type": "stream",
     "text": [
      "/home/kaushik/miniconda3/envs/py3/lib/python3.10/site-packages/tqdm/auto.py:21: TqdmWarning: IProgress not found. Please update jupyter and ipywidgets. See https://ipywidgets.readthedocs.io/en/stable/user_install.html\n",
      "  from .autonotebook import tqdm as notebook_tqdm\n",
      "/home/kaushik/miniconda3/envs/py3/lib/python3.10/site-packages/umap/__init__.py:9: ImportWarning: Tensorflow not installed; ParametricUMAP will be unavailable\n",
      "  warn(\n"
     ]
    }
   ],
   "source": [
    "from utils import print_result"
   ]
  },
  {
   "cell_type": "markdown",
   "metadata": {},
   "source": [
    "### Basic Query"
   ]
  },
  {
   "cell_type": "code",
   "execution_count": 8,
   "metadata": {},
   "outputs": [
    {
     "name": "stdout",
     "output_type": "stream",
     "text": [
      "item: 0\n",
      "_additional: {'distance': -154.75615}\n",
      "\n",
      "lang: en\n",
      "\n",
      "text: There are many works that have been pointed to as possible sources for Shakespeare's play—from ancient Greek tragedies to Elizabethan plays. The editors of the Arden Shakespeare question the idea of \"source hunting\", pointing out that it presupposes that authors always require ideas from other works for their own, and suggests that no author can have an original idea or be an originator. When Shakespeare wrote there were many stories about sons avenging the murder of their fathers, and many about clever avenging sons pretending to be foolish in order to outsmart their foes. This would include the story of the ancient Roman, Lucius Junius Brutus, which Shakespeare apparently knew, as well as the story of Amleth, which was preserved in Latin by 13th-century chronicler Saxo Grammaticus in his \"Gesta Danorum\", and printed in Paris in 1514. The Amleth story was subsequently adapted and then published in French in 1570 by the 16th-century scholar François de Belleforest. It has a number of plot elements and major characters in common with Shakespeare's \"Hamlet\", and lacks others that are found in Shakespeare. Belleforest's story was first published in English in 1608, after \"Hamlet\" had been written, though it's possible that Shakespeare had encountered it in the French-language version.\n",
      "\n",
      "title: Hamlet\n",
      "\n",
      "url: https://en.wikipedia.org/wiki?curid=13554\n",
      "\n",
      "views: 3000\n",
      "\n",
      "\n",
      "item: 1\n",
      "_additional: {'distance': -154.56943}\n",
      "\n",
      "lang: en\n",
      "\n",
      "text: English poet John Milton was an early admirer of Shakespeare and took evident inspiration from his work. As John Kerrigan discusses, Milton originally considered writing his epic poem \"Paradise Lost\" (1667) as a tragedy. While Milton did not ultimately go that route, the poem still shows distinct echoes of Shakespearean revenge tragedy, and of \"Hamlet\" in particular. As scholar Christopher N. Warren argues, \"Paradise Lost\"s Satan \"undergoes a transformation in the poem from a Hamlet-like avenger into a Claudius-like usurper,\" a plot device that supports Milton's larger Republican internationalist project. The poem also reworks theatrical language from \"Hamlet\", especially around the idea of \"putting on\" certain dispositions, as when Hamlet puts on \"an antic disposition,\" similarly to the Son in \"Paradise Lost\" who \"can put on / [God's] terrors.\"\n",
      "\n",
      "title: Hamlet\n",
      "\n",
      "url: https://en.wikipedia.org/wiki?curid=13554\n",
      "\n",
      "views: 3000\n",
      "\n",
      "\n",
      "item: 2\n",
      "_additional: {'distance': -154.2872}\n",
      "\n",
      "lang: en\n",
      "\n",
      "text: The Tragedy of Hamlet, Prince of Denmark, often shortened to Hamlet (), is a tragedy written by William Shakespeare sometime between 1599 and 1601. It is Shakespeare's longest play, with 29,551 words. Set in Denmark, the play depicts Prince Hamlet and his attempts to exact revenge against his uncle, Claudius, who has murdered Hamlet's father in order to seize his throne and marry Hamlet's mother.\n",
      "\n",
      "title: Hamlet\n",
      "\n",
      "url: https://en.wikipedia.org/wiki?curid=13554\n",
      "\n",
      "views: 3000\n",
      "\n",
      "\n",
      "item: 3\n",
      "_additional: {'distance': -153.54633}\n",
      "\n",
      "lang: en\n",
      "\n",
      "text: In 1598, Francis Meres published his \"Palladis Tamia\", a survey of English literature from Chaucer to its present day, within which twelve of Shakespeare's plays are named. \"Hamlet\" is not among them, suggesting that it had not yet been written. As \"Hamlet\" was very popular, Bernard Lott, the series editor of \"New Swan\", believes it \"unlikely that he [Meres] would have overlooked ... so significant a piece\".\n",
      "\n",
      "title: Hamlet\n",
      "\n",
      "url: https://en.wikipedia.org/wiki?curid=13554\n",
      "\n",
      "views: 3000\n",
      "\n",
      "\n",
      "item: 4\n",
      "_additional: {'distance': -153.43037}\n",
      "\n",
      "lang: en\n",
      "\n",
      "text: Shakespeare almost certainly wrote the role of Hamlet for Richard Burbage. He was the chief tragedian of the Lord Chamberlain's Men, with a capacious memory for lines and a wide emotional range. Judging by the number of reprints, \"Hamlet\" appears to have been Shakespeare's fourth most popular play during his lifetime—only \"Henry IV Part 1\", \"Richard III\" and \"Pericles\" eclipsed it. Shakespeare provides no clear indication of when his play is set; however, as Elizabethan actors performed at the Globe in contemporary dress on minimal sets, this would not have affected the staging.\n",
      "\n",
      "title: Hamlet\n",
      "\n",
      "url: https://en.wikipedia.org/wiki?curid=13554\n",
      "\n",
      "views: 3000\n",
      "\n",
      "\n"
     ]
    }
   ],
   "source": [
    "query = \"Who wrote Hamlet?\"\n",
    "dense_retrieval_results = dense_retrieval(query=query)\n",
    "print_result(result=dense_retrieval_results)"
   ]
  },
  {
   "cell_type": "markdown",
   "metadata": {},
   "source": [
    "### Medium Query"
   ]
  },
  {
   "cell_type": "code",
   "execution_count": 9,
   "metadata": {},
   "outputs": [
    {
     "name": "stdout",
     "output_type": "stream",
     "text": [
      "item: 0\n",
      "_additional: {'distance': -154.76201}\n",
      "\n",
      "lang: en\n",
      "\n",
      "text: A number of buildings across Canada are reserved by the Crown for the use of the monarch and his viceroys. Each is called \"Government House\", but may be customarily known by some specific name. The sovereign's and governor general's official residences are Rideau Hall in Ottawa and the Citadelle in Quebec City. Each of these royal seats holds pieces from the Crown Collection. Further, though neither was ever used for their intended purpose, Hatley Castle in British Columbia was purchased in 1940 by King George VI in Right of Canada to use as his home during the course of the Second World War and the Emergency Government Headquarters, built in 1959 at CFS Carp and decommissioned in 1994, included a residential apartment for the sovereign or governor general in the case of a nuclear attack on Ottawa.\n",
      "\n",
      "title: Monarchy of Canada\n",
      "\n",
      "url: https://en.wikipedia.org/wiki?curid=56504\n",
      "\n",
      "views: 2000\n",
      "\n",
      "\n",
      "item: 1\n",
      "_additional: {'distance': -151.6084}\n",
      "\n",
      "lang: en\n",
      "\n",
      "text: Canada is a country in North America. Its ten provinces and three territories extend from the Atlantic Ocean to the Pacific Ocean and northward into the Arctic Ocean, covering over , making it the world's second-largest country by total area. Its southern and western border with the United States, stretching , is the world's longest binational land border. Canada's capital is Ottawa, and its three largest metropolitan areas are Toronto, Montreal, and Vancouver.\n",
      "\n",
      "title: Canada\n",
      "\n",
      "url: https://en.wikipedia.org/wiki?curid=5042916\n",
      "\n",
      "views: 4000\n",
      "\n",
      "\n",
      "item: 2\n",
      "_additional: {'distance': -150.46484}\n",
      "\n",
      "lang: en\n",
      "\n",
      "text: The Crown is the pinnacle of the Canadian Forces, with the constitution placing the monarch in the position of commander-in-chief of the entire force, though the governor general carries out the duties attached to the position and also bears the title of \"Commander-in-Chief in and over Canada\". Further, included in Canada's constitution are the various treaties between the Crown and Canadian First Nations, Inuit, and Métis peoples, who view these documents as agreements directly and only between themselves and the reigning monarch, illustrating the relationship between sovereign and aboriginals.\n",
      "\n",
      "title: Monarchy of Canada\n",
      "\n",
      "url: https://en.wikipedia.org/wiki?curid=56504\n",
      "\n",
      "views: 2000\n",
      "\n",
      "\n",
      "item: 3\n",
      "_additional: {'distance': -149.34106}\n",
      "\n",
      "lang: en\n",
      "\n",
      "text: There are three territories in Canada. Unlike the provinces, the territories of Canada have no inherent sovereignty and have only those powers delegated to them by the federal government. They include all of mainland Canada north of latitude 60° north and west of Hudson Bay and all islands north of the Canadian mainland (from those in James Bay to the Queen Elizabeth Islands). The following table lists the territories in order of precedence (each province has precedence over all the territories, regardless of the date each territory was created).\n",
      "\n",
      "title: Provinces and territories of Canada\n",
      "\n",
      "url: https://en.wikipedia.org/wiki?curid=75763\n",
      "\n",
      "views: 3000\n",
      "\n",
      "\n",
      "item: 4\n",
      "_additional: {'distance': -149.1506}\n",
      "\n",
      "lang: en\n",
      "\n",
      "text: Within the geographical areas of Canada, the ten provinces and three territories are sub-national administrative divisions under the jurisdiction of the Canadian Constitution. In the 1867 Canadian Confederation, three provinces of British North America—New Brunswick, Nova Scotia, and the Province of Canada (which upon Confederation was divided into Ontario and Quebec)—united to form a federation, becoming a fully independent country over the next century. Over its history, Canada's international borders have changed several times as it has added territories and provinces, making it the world's second-largest country by area.\n",
      "\n",
      "title: Provinces and territories of Canada\n",
      "\n",
      "url: https://en.wikipedia.org/wiki?curid=75763\n",
      "\n",
      "views: 3000\n",
      "\n",
      "\n"
     ]
    }
   ],
   "source": [
    "query = \"What is the captial of Canada?\"\n",
    "dense_retrieval_results = dense_retrieval(query=query)\n",
    "print_result(result=dense_retrieval_results)"
   ]
  },
  {
   "cell_type": "markdown",
   "metadata": {},
   "source": [
    "### Complicated Query"
   ]
  },
  {
   "cell_type": "code",
   "execution_count": 10,
   "metadata": {},
   "outputs": [
    {
     "name": "stdout",
     "output_type": "stream",
     "text": [
      "item: 0\n",
      "text: The population of Japan peaked at 128,083,960 in 2008. It had decreased by 2,373,960 by December 2020. In 2011, the economy of China became the world's second largest. Japan's economy descended to third largest by nominal GDP. Despite Japan's economic difficulties, this period also saw Japanese popular culture, including video games, anime, and manga, expanding worldwide, especially among young people. In March 2011, the Tokyo Skytree became the tallest tower in the world at , displacing the Canton Tower. It is the second tallest structure in the world after the Burj Khalifa ().\n",
      "\n",
      "title: History of Japan\n",
      "\n",
      "url: https://en.wikipedia.org/wiki?curid=25890428\n",
      "\n",
      "\n",
      "item: 1\n",
      "text: Alpinism author Jon Krakauer (1997) wrote in \"Into Thin Air\" that it would be a bigger challenge to climb the second-highest peak of each continent, known as the Seven Second Summits – a feat that was not accomplished until January 2013. This discussion had previously been published in an article titled \"The Second Seven Summits\" in Rock & Ice Magazine (#77) authored by the mountaineer and Seven Summits completer David Keaton. This is especially true for Asia, as K2 (8,611 m) demands greater technical climbing skills than Everest (8,848 m), while altitude-related factors such as the thinness of the atmosphere, high winds and low temperatures remain much the same. Some of those completing the seven ascents are aware of the magnitude of the challenge. In 2000, in a foreword to Steve Bell et al., \"Seven Summits\", Morrow opined \"[t]he only reason Reinhold [Messner] wasn’t the first person to complete the seven was that he was too busy gambolling up the 14 tallest mountains in the world.\"\n",
      "\n",
      "title: Seven Summits\n",
      "\n",
      "url: https://en.wikipedia.org/wiki?curid=220861\n",
      "\n",
      "\n",
      "item: 2\n",
      "text: Hamad was able to focus on turning Qatar from a small desert backwater into a major world power by continuing to exploit the country’s vast oil fields and discovering and tapping the world’s third largest gas reserves. By 2010 liquefied natural gas production had reached 77 million tons, making Qatar the richest country in the world. With fewer than two million inhabitants, the average income in the country shot to a staggering $86,440 per year per person. Qatar expert Olivier Da Lage said: \"When he came to power in 1995, Sheikh Hamad had a goal to place Qatar on the world map by exploiting the gas resources which his father did not develop for fear it would change the emirate's society. Eighteen years on, he has finished the job – Qatar has acquired the financial clout to command respect from neighboring countries and Western governments alike\".In 2005, under the direction of Hamad and the former prime minister of Qatar Sheikh Hamad bin Jassim bin Jaber Al Thani, the Qatar Investment Authority was established, a sovereign wealth fund to manage the country's oil and natural gas surpluses. The Qatar Investment Authority and its subsidiaries have acquired many businesses abroad, including London's iconic department store Harrods from entrepreneur Mohammed Al-Fayed, Paris-based department store Printemps, French football club Paris Saint-Germain F.C., a former 10% stake in Porsche, a 75% stake in film studio Miramax Films which they acquired from Disney, a 2% stake in media conglomerate and Universal Music Group parent company Vivendi, a $100 million USD investment in Chernin Group – whose founder Peter Chernin was COO of News Corp and President of Fox, a 1% stake in luxury goods manufacturer Louis Vuitton Moët Hennessy, a 6% stake in Credit Suisse, a 12.6% stake in Barclays and several other major companies. They also backed Glencore's $31 billion takeover bid for Xstrata. Qatar is the largest property owner in London with their holdings including the United Kingdom's tallest building The Shard, the London Olympic Village and the InterContinental London Park Lane hotel. They also own several hotels in Cannes including the Majestic Hotel, Grand Hyatt Cannes Hôtel Martinez and the Carlton Hotel, Cannes. QIA was considered to have one of the leading bids in the sales of both Anschutz Entertainment Group and Hulu. As of May 2013, it was reported the Investment Authority was in talks to purchase Neiman Marcus and Bergdorf Goodman.\n",
      "\n",
      "title: Hamad bin Khalifa Al Thani\n",
      "\n",
      "url: https://en.wikipedia.org/wiki?curid=295929\n",
      "\n",
      "\n"
     ]
    }
   ],
   "source": [
    "from utils import keyword_search\n",
    "\n",
    "query = \"Tallest person in history?\"\n",
    "keyword_search_results = keyword_search(query=query, client=client)\n",
    "print_result(result=keyword_search_results)"
   ]
  },
  {
   "cell_type": "code",
   "execution_count": 11,
   "metadata": {},
   "outputs": [
    {
     "name": "stdout",
     "output_type": "stream",
     "text": [
      "item: 0\n",
      "_additional: {'distance': -147.6825}\n",
      "\n",
      "lang: en\n",
      "\n",
      "text: Robert Pershing Wadlow (February 22, 1918 July 15, 1940), also known as the Alton Giant and the Giant of Illinois, was a man who was the tallest person in recorded history for whom there is irrefutable evidence. He was born and raised in Alton, Illinois, a small city near St. Louis, Missouri.\n",
      "\n",
      "title: Robert Wadlow\n",
      "\n",
      "url: https://en.wikipedia.org/wiki?curid=359117\n",
      "\n",
      "views: 3000\n",
      "\n",
      "\n",
      "item: 1\n",
      "_additional: {'distance': -147.38083}\n",
      "\n",
      "lang: en\n",
      "\n",
      "text: Bol came from a family of extraordinarily tall men and women. He said: \"My mother was , my father , and my sister is . And my great-grandfather was even taller—.\" His ethnic group, the Dinka, and the Nilotic people of which they are a part, are among the tallest populations in the world. Bol's hometown, Turalei, is the origin of other exceptionally tall people, including basketball player Ring Ayuel. \"I was born in a village, where you cannot measure yourself,\" Bol reflected. \"I learned I was 7 foot 7 in 1979, when I was grown. I was about 18 or 19.\"\n",
      "\n",
      "title: Manute Bol\n",
      "\n",
      "url: https://en.wikipedia.org/wiki?curid=283871\n",
      "\n",
      "views: 2000\n",
      "\n",
      "\n",
      "item: 2\n",
      "_additional: {'distance': -145.65785}\n",
      "\n",
      "lang: en\n",
      "\n",
      "text: Sultan Kösen (born 10 December 1982) is a Turkish farmer who holds the Guinness World Record for tallest living male at . Of Kurdish ethnicity, he is the seventh tallest man in history.\n",
      "\n",
      "title: Sultan Kösen\n",
      "\n",
      "url: https://en.wikipedia.org/wiki?curid=8445237\n",
      "\n",
      "views: 2000\n",
      "\n",
      "\n",
      "item: 3\n",
      "_additional: {'distance': -145.51099}\n",
      "\n",
      "lang: en\n",
      "\n",
      "text: One year before his death, Wadlow passed John Rogan as the tallest person ever. On June 27, 1940 (18 days before his death), he was measured by doctors at .\n",
      "\n",
      "title: Robert Wadlow\n",
      "\n",
      "url: https://en.wikipedia.org/wiki?curid=359117\n",
      "\n",
      "views: 3000\n",
      "\n",
      "\n",
      "item: 4\n",
      "_additional: {'distance': -145.10349}\n",
      "\n",
      "lang: en\n",
      "\n",
      "text: Bol and Gheorghe Mureșan are the two tallest players in the history of the National Basketball Association. Official NBA publications have listed Bol at either or tall. He was measured by the Guinness Book of World Records at 7 ft 6  in tall. Complementing his great height, Bol had exceptionally long limbs (inseam ) and large hands and feet (size 16 ). His arm span, at , is (as of 2013) the longest in NBA history, and his upward reach was . He was extremely slender, limiting his offensive capability.\n",
      "\n",
      "title: Manute Bol\n",
      "\n",
      "url: https://en.wikipedia.org/wiki?curid=283871\n",
      "\n",
      "views: 2000\n",
      "\n",
      "\n"
     ]
    }
   ],
   "source": [
    "query = \"Tallest person in history?\"\n",
    "dense_retrieval_results = dense_retrieval(query=query)\n",
    "print_result(result=dense_retrieval_results)"
   ]
  },
  {
   "cell_type": "markdown",
   "metadata": {},
   "source": [
    "Query in Arabic"
   ]
  },
  {
   "cell_type": "code",
   "execution_count": 12,
   "metadata": {},
   "outputs": [
    {
     "name": "stdout",
     "output_type": "stream",
     "text": [
      "item: 0\n",
      "_additional: {'distance': -147.44199}\n",
      "\n",
      "lang: en\n",
      "\n",
      "text: Robert Pershing Wadlow (February 22, 1918 July 15, 1940), also known as the Alton Giant and the Giant of Illinois, was a man who was the tallest person in recorded history for whom there is irrefutable evidence. He was born and raised in Alton, Illinois, a small city near St. Louis, Missouri.\n",
      "\n",
      "title: Robert Wadlow\n",
      "\n",
      "url: https://en.wikipedia.org/wiki?curid=359117\n",
      "\n",
      "views: 3000\n",
      "\n",
      "\n",
      "item: 1\n",
      "_additional: {'distance': -147.09518}\n",
      "\n",
      "lang: en\n",
      "\n",
      "text: Kösen turned 40 years old on 10 December 2022. He celebrated his birthday a few days early by visiting the Ripley's Believe It or Not! museum in Orlando, Florida, USA and posing next to a life-sized statue of Robert Wadlow, the tallest man ever at 272 cm (8 ft 11.1 in).\n",
      "\n",
      "title: Sultan Kösen\n",
      "\n",
      "url: https://en.wikipedia.org/wiki?curid=8445237\n",
      "\n",
      "views: 2000\n",
      "\n",
      "\n",
      "item: 2\n",
      "_additional: {'distance': -146.9144}\n",
      "\n",
      "lang: en\n",
      "\n",
      "text: Bol and Gheorghe Mureșan are the two tallest players in the history of the National Basketball Association. Official NBA publications have listed Bol at either or tall. He was measured by the Guinness Book of World Records at 7 ft 6  in tall. Complementing his great height, Bol had exceptionally long limbs (inseam ) and large hands and feet (size 16 ). His arm span, at , is (as of 2013) the longest in NBA history, and his upward reach was . He was extremely slender, limiting his offensive capability.\n",
      "\n",
      "title: Manute Bol\n",
      "\n",
      "url: https://en.wikipedia.org/wiki?curid=283871\n",
      "\n",
      "views: 2000\n",
      "\n",
      "\n",
      "item: 3\n",
      "_additional: {'distance': -146.62762}\n",
      "\n",
      "lang: en\n",
      "\n",
      "text: Sultan Kösen (born 10 December 1982) is a Turkish farmer who holds the Guinness World Record for tallest living male at . Of Kurdish ethnicity, he is the seventh tallest man in history.\n",
      "\n",
      "title: Sultan Kösen\n",
      "\n",
      "url: https://en.wikipedia.org/wiki?curid=8445237\n",
      "\n",
      "views: 2000\n",
      "\n",
      "\n",
      "item: 4\n",
      "_additional: {'distance': -146.54651}\n",
      "\n",
      "lang: en\n",
      "\n",
      "text: Jonah Adam (Cardeli) Falcon (born July 29, 1970) is an American actor and television presenter. He came to international attention in 1999 because of his claim that he has the largest penis in the world, which he claims is long when erect; Falcon has not authorized or permitted independent verification of this figure.\n",
      "\n",
      "title: Jonah Falcon\n",
      "\n",
      "url: https://en.wikipedia.org/wiki?curid=22044645\n",
      "\n",
      "views: 2000\n",
      "\n",
      "\n"
     ]
    }
   ],
   "source": [
    "query = \"أطول رجل في التاريخ\"\n",
    "dense_retrieval_results = dense_retrieval(query=query)\n",
    "print_result(result=dense_retrieval_results)"
   ]
  },
  {
   "cell_type": "code",
   "execution_count": 13,
   "metadata": {},
   "outputs": [
    {
     "name": "stdout",
     "output_type": "stream",
     "text": [
      "item: 0\n",
      "_additional: {'distance': -151.41705}\n",
      "\n",
      "lang: en\n",
      "\n",
      "text: Although the production contracted out various effect houses to try to make the time travelling effects feel like more of a spectacle, they found the resulting work \"just completely wrong\" tonally and instead focused on a more low-key approach. Curtis has opined \"that in the end it turns out to be a kind of anti–time travel time travel movie. It uses all the time travel stuff but without it feeling like it's a science fiction thing particularly or without it feeling that time travel can actually solve your life.\"\n",
      "\n",
      "title: About Time (2013 film)\n",
      "\n",
      "url: https://en.wikipedia.org/wiki?curid=38094431\n",
      "\n",
      "views: 2000\n",
      "\n",
      "\n",
      "item: 1\n",
      "_additional: {'distance': -150.89001}\n",
      "\n",
      "lang: en\n",
      "\n",
      "text: The film was directed by Wells's great-grandson Simon Wells, with an even more revised plot that incorporated the ideas of paradoxes and changing the past. The place is changed from Richmond, Surrey, to downtown New York City, where the Time Traveller moves forward in time to find answers to his questions on 'Practical Application of Time Travel;' first in 2030 New York, to witness an orbital lunar catastrophe in 2037, before moving on to 802,701 for the main plot. He later briefly finds himself in 635,427,810 with toxic clouds and a world laid waste (presumably by the Morlocks) with devastation and Morlock artifacts stretching out to the horizon.\n",
      "\n",
      "title: The Time Machine\n",
      "\n",
      "url: https://en.wikipedia.org/wiki?curid=29834\n",
      "\n",
      "views: 2000\n",
      "\n",
      "\n",
      "item: 2\n",
      "_additional: {'distance': -150.34875}\n",
      "\n",
      "lang: en\n",
      "\n",
      "text: Leslie Felperin of \"Variety\" called the film \"reassuringly bland\" and says there is sense of déjà vu especially for anyone who has seen \"The Time Traveler's Wife\", also co-starring McAdams. Unlike that film, she has no knowledge of his powers in \"About Time\", resulting in a \"fundamental lack of honesty in their relationship\". Felperin noted British reverse snobbery would put many off this and other Curtis films, but that this would be less of a problem among American Anglophiles and those willing to suspend disbelief, taking the characters as British \"versions of Woody Allen's Manhattanites (but with less angst)\". Felperin praised the chemistry of the leading couple \"that keeps the film aloft\" and the supporting cast, while also criticising the stock characters as being too familiar.\n",
      "\n",
      "title: About Time (2013 film)\n",
      "\n",
      "url: https://en.wikipedia.org/wiki?curid=38094431\n",
      "\n",
      "views: 2000\n",
      "\n",
      "\n",
      "item: 3\n",
      "_additional: {'distance': -149.9461}\n",
      "\n",
      "lang: en\n",
      "\n",
      "text: The philosopher Kelley L. Ross argues in \"Time Travel Paradoxes\" that in a scenario involving a physical object whose world-line or history forms a closed loop in time there can be a violation of the second law of thermodynamics. Ross uses the film \"Somewhere in Time\" as an example of such an ontological paradox, where a watch is given to a person, and 60 years later the same watch is brought back in time and given to the same character. Ross states that entropy of the watch will increase, and the watch carried back in time will be more worn with each repetition of its history. The second law of thermodynamics is understood by modern physicists to be a statistical law, so decreasing entropy and non-increasing entropy are not impossible, just improbable. Additionally, entropy statistically increases in systems which are isolated, so non-isolated systems, such as an object, that interact with the outside world, can become less worn and decrease in entropy, and it's possible for an object whose world-line forms a closed loop to be always in the same condition in the same point of its history.\n",
      "\n",
      "title: Time travel\n",
      "\n",
      "url: https://en.wikipedia.org/wiki?curid=31591\n",
      "\n",
      "views: 2000\n",
      "\n",
      "\n",
      "item: 4\n",
      "_additional: {'distance': -149.86707}\n",
      "\n",
      "lang: en\n",
      "\n",
      "text: The science-fiction aspect of the film revolves around the ability to reverse the entropy of things and people, resulting in time reversibility. While the film does refer to real concepts from physics, among them annihilation, the second law of thermodynamics, Maxwell's demon, the grandfather paradox, and Feynman and Wheeler's Absorber Theory, Nolan stated in the film's press notes that \"we're not going to make any case for this being scientifically accurate\". Commenting on the scientific aspects of writing the script, he stated: \"I think the scientific method is the best tool we have for analysing and understanding the world around us ... I've been very inspired by working with great scientists like Kip Thorne, who I worked with on \"Interstellar\", who also helped me out with some early analysis of the ideas I wanted to explore to do with time and quantum physics on \"Tenet\", although I promised him I wasn't going to bandy his name around as if there was some kind of scientific reality to \"Tenet\". It's a very different kettle of fish to \"Interstellar\".\"\n",
      "\n",
      "title: Tenet (film)\n",
      "\n",
      "url: https://en.wikipedia.org/wiki?curid=59770239\n",
      "\n",
      "views: 3000\n",
      "\n",
      "\n"
     ]
    }
   ],
   "source": [
    "query = \"film about a time travel paradox\"\n",
    "dense_retrieval_results = dense_retrieval(query=query)\n",
    "print_result(result=dense_retrieval_results)"
   ]
  },
  {
   "cell_type": "markdown",
   "metadata": {},
   "source": [
    "## Part 2: Building Semantic Search from Scratch\n",
    "\n",
    "### Get the text archive:"
   ]
  },
  {
   "cell_type": "code",
   "execution_count": 14,
   "metadata": {},
   "outputs": [],
   "source": [
    "from annoy import AnnoyIndex\n",
    "import numpy as np\n",
    "import pandas as pd\n",
    "import re"
   ]
  },
  {
   "cell_type": "code",
   "execution_count": 15,
   "metadata": {},
   "outputs": [],
   "source": [
    "text = \"\"\"\n",
    "Interstellar is a 2014 epic science fiction film co-written, directed, and produced by Christopher Nolan.\n",
    "It stars Matthew McConaughey, Anne Hathaway, Jessica Chastain, Bill Irwin, Ellen Burstyn, Matt Damon, and Michael Caine.\n",
    "Set in a dystopian future where humanity is struggling to survive, the film follows a group of astronauts who travel through a wormhole near Saturn in search of a new home for mankind.\n",
    "\n",
    "Brothers Christopher and Jonathan Nolan wrote the screenplay, which had its origins in a script Jonathan developed in 2007.\n",
    "Caltech theoretical physicist and 2017 Nobel laureate in Physics[4] Kip Thorne was an executive producer, acted as a scientific consultant, and wrote a tie-in book, The Science of Interstellar.\n",
    "Cinematographer Hoyte van Hoytema shot it on 35 mm movie film in the Panavision anamorphic format and IMAX 70 mm.\n",
    "Principal photography began in late 2013 and took place in Alberta, Iceland, and Los Angeles.\n",
    "Interstellar uses extensive practical and miniature effects and the company Double Negative created additional digital effects.\n",
    "\n",
    "Interstellar premiered on October 26, 2014, in Los Angeles.\n",
    "In the United States, it was first released on film stock, expanding to venues using digital projectors.\n",
    "The film had a worldwide gross over $677 million (and $773 million with subsequent re-releases), making it the tenth-highest grossing film of 2014.\n",
    "It received acclaim for its performances, direction, screenplay, musical score, visual effects, ambition, themes, and emotional weight.\n",
    "It has also received praise from many astronomers for its scientific accuracy and portrayal of theoretical astrophysics. Since its premiere, Interstellar gained a cult following,[5] and now is regarded by many sci-fi experts as one of the best science-fiction films of all time.\n",
    "Interstellar was nominated for five awards at the 87th Academy Awards, winning Best Visual Effects, and received numerous other accolades\"\"\""
   ]
  },
  {
   "cell_type": "markdown",
   "metadata": {},
   "source": [
    "### Chunking:"
   ]
  },
  {
   "cell_type": "code",
   "execution_count": 16,
   "metadata": {},
   "outputs": [],
   "source": [
    "# Split into a list of sentences\n",
    "texts = text.split(\".\")\n",
    "\n",
    "# Clean up to remove empty spaces and new lines\n",
    "texts = np.array([t.strip(\" \\n\") for t in texts])"
   ]
  },
  {
   "cell_type": "code",
   "execution_count": 17,
   "metadata": {},
   "outputs": [
    {
     "data": {
      "text/plain": [
       "array(['Interstellar is a 2014 epic science fiction film co-written, directed, and produced by Christopher Nolan',\n",
       "       'It stars Matthew McConaughey, Anne Hathaway, Jessica Chastain, Bill Irwin, Ellen Burstyn, Matt Damon, and Michael Caine',\n",
       "       'Set in a dystopian future where humanity is struggling to survive, the film follows a group of astronauts who travel through a wormhole near Saturn in search of a new home for mankind',\n",
       "       'Brothers Christopher and Jonathan Nolan wrote the screenplay, which had its origins in a script Jonathan developed in 2007',\n",
       "       'Caltech theoretical physicist and 2017 Nobel laureate in Physics[4] Kip Thorne was an executive producer, acted as a scientific consultant, and wrote a tie-in book, The Science of Interstellar',\n",
       "       'Cinematographer Hoyte van Hoytema shot it on 35 mm movie film in the Panavision anamorphic format and IMAX 70 mm',\n",
       "       'Principal photography began in late 2013 and took place in Alberta, Iceland, and Los Angeles',\n",
       "       'Interstellar uses extensive practical and miniature effects and the company Double Negative created additional digital effects',\n",
       "       'Interstellar premiered on October 26, 2014, in Los Angeles',\n",
       "       'In the United States, it was first released on film stock, expanding to venues using digital projectors',\n",
       "       'The film had a worldwide gross over $677 million (and $773 million with subsequent re-releases), making it the tenth-highest grossing film of 2014',\n",
       "       'It received acclaim for its performances, direction, screenplay, musical score, visual effects, ambition, themes, and emotional weight',\n",
       "       'It has also received praise from many astronomers for its scientific accuracy and portrayal of theoretical astrophysics',\n",
       "       'Since its premiere, Interstellar gained a cult following,[5] and now is regarded by many sci-fi experts as one of the best science-fiction films of all time',\n",
       "       'Interstellar was nominated for five awards at the 87th Academy Awards, winning Best Visual Effects, and received numerous other accolades'],\n",
       "      dtype='<U192')"
      ]
     },
     "execution_count": 17,
     "metadata": {},
     "output_type": "execute_result"
    }
   ],
   "source": [
    "texts"
   ]
  },
  {
   "cell_type": "code",
   "execution_count": 18,
   "metadata": {},
   "outputs": [],
   "source": [
    "# Split into a list of paragraphs\n",
    "texts = text.split(\"\\n\\n\")\n",
    "\n",
    "# Clean up to remove empty spaces and new lines\n",
    "texts = np.array([t.strip(\" \\n\") for t in texts])"
   ]
  },
  {
   "cell_type": "code",
   "execution_count": 19,
   "metadata": {},
   "outputs": [
    {
     "data": {
      "text/plain": [
       "array(['Interstellar is a 2014 epic science fiction film co-written, directed, and produced by Christopher Nolan.\\nIt stars Matthew McConaughey, Anne Hathaway, Jessica Chastain, Bill Irwin, Ellen Burstyn, Matt Damon, and Michael Caine.\\nSet in a dystopian future where humanity is struggling to survive, the film follows a group of astronauts who travel through a wormhole near Saturn in search of a new home for mankind.',\n",
       "       'Brothers Christopher and Jonathan Nolan wrote the screenplay, which had its origins in a script Jonathan developed in 2007.\\nCaltech theoretical physicist and 2017 Nobel laureate in Physics[4] Kip Thorne was an executive producer, acted as a scientific consultant, and wrote a tie-in book, The Science of Interstellar.\\nCinematographer Hoyte van Hoytema shot it on 35 mm movie film in the Panavision anamorphic format and IMAX 70 mm.\\nPrincipal photography began in late 2013 and took place in Alberta, Iceland, and Los Angeles.\\nInterstellar uses extensive practical and miniature effects and the company Double Negative created additional digital effects.',\n",
       "       'Interstellar premiered on October 26, 2014, in Los Angeles.\\nIn the United States, it was first released on film stock, expanding to venues using digital projectors.\\nThe film had a worldwide gross over $677 million (and $773 million with subsequent re-releases), making it the tenth-highest grossing film of 2014.\\nIt received acclaim for its performances, direction, screenplay, musical score, visual effects, ambition, themes, and emotional weight.\\nIt has also received praise from many astronomers for its scientific accuracy and portrayal of theoretical astrophysics. Since its premiere, Interstellar gained a cult following,[5] and now is regarded by many sci-fi experts as one of the best science-fiction films of all time.\\nInterstellar was nominated for five awards at the 87th Academy Awards, winning Best Visual Effects, and received numerous other accolades'],\n",
       "      dtype='<U865')"
      ]
     },
     "execution_count": 19,
     "metadata": {},
     "output_type": "execute_result"
    }
   ],
   "source": [
    "texts"
   ]
  },
  {
   "cell_type": "code",
   "execution_count": 20,
   "metadata": {},
   "outputs": [],
   "source": [
    "# Split into a list of sentences\n",
    "texts = text.split(\".\")\n",
    "\n",
    "# Clean up to remove empty spaces and new lines\n",
    "texts = np.array([t.strip(\" \\n\") for t in texts])"
   ]
  },
  {
   "cell_type": "markdown",
   "metadata": {},
   "source": [
    "Prepend title to add context"
   ]
  },
  {
   "cell_type": "code",
   "execution_count": 21,
   "metadata": {},
   "outputs": [],
   "source": [
    "title = \"Interstellar (film)\"\n",
    "texts = np.array([f\"{title} {t}\" for t in texts])"
   ]
  },
  {
   "cell_type": "code",
   "execution_count": 22,
   "metadata": {},
   "outputs": [
    {
     "data": {
      "text/plain": [
       "array(['Interstellar (film) Interstellar is a 2014 epic science fiction film co-written, directed, and produced by Christopher Nolan',\n",
       "       'Interstellar (film) It stars Matthew McConaughey, Anne Hathaway, Jessica Chastain, Bill Irwin, Ellen Burstyn, Matt Damon, and Michael Caine',\n",
       "       'Interstellar (film) Set in a dystopian future where humanity is struggling to survive, the film follows a group of astronauts who travel through a wormhole near Saturn in search of a new home for mankind',\n",
       "       'Interstellar (film) Brothers Christopher and Jonathan Nolan wrote the screenplay, which had its origins in a script Jonathan developed in 2007',\n",
       "       'Interstellar (film) Caltech theoretical physicist and 2017 Nobel laureate in Physics[4] Kip Thorne was an executive producer, acted as a scientific consultant, and wrote a tie-in book, The Science of Interstellar',\n",
       "       'Interstellar (film) Cinematographer Hoyte van Hoytema shot it on 35 mm movie film in the Panavision anamorphic format and IMAX 70 mm',\n",
       "       'Interstellar (film) Principal photography began in late 2013 and took place in Alberta, Iceland, and Los Angeles',\n",
       "       'Interstellar (film) Interstellar uses extensive practical and miniature effects and the company Double Negative created additional digital effects',\n",
       "       'Interstellar (film) Interstellar premiered on October 26, 2014, in Los Angeles',\n",
       "       'Interstellar (film) In the United States, it was first released on film stock, expanding to venues using digital projectors',\n",
       "       'Interstellar (film) The film had a worldwide gross over $677 million (and $773 million with subsequent re-releases), making it the tenth-highest grossing film of 2014',\n",
       "       'Interstellar (film) It received acclaim for its performances, direction, screenplay, musical score, visual effects, ambition, themes, and emotional weight',\n",
       "       'Interstellar (film) It has also received praise from many astronomers for its scientific accuracy and portrayal of theoretical astrophysics',\n",
       "       'Interstellar (film) Since its premiere, Interstellar gained a cult following,[5] and now is regarded by many sci-fi experts as one of the best science-fiction films of all time',\n",
       "       'Interstellar (film) Interstellar was nominated for five awards at the 87th Academy Awards, winning Best Visual Effects, and received numerous other accolades'],\n",
       "      dtype='<U212')"
      ]
     },
     "execution_count": 22,
     "metadata": {},
     "output_type": "execute_result"
    }
   ],
   "source": [
    "texts"
   ]
  },
  {
   "cell_type": "markdown",
   "metadata": {},
   "source": [
    "### Get the embeddings:"
   ]
  },
  {
   "cell_type": "code",
   "execution_count": 23,
   "metadata": {},
   "outputs": [],
   "source": [
    "response = co.embed(\n",
    "    texts=texts.tolist()\n",
    ").embeddings"
   ]
  },
  {
   "cell_type": "code",
   "execution_count": 24,
   "metadata": {},
   "outputs": [
    {
     "data": {
      "text/plain": [
       "(15, 4096)"
      ]
     },
     "execution_count": 24,
     "metadata": {},
     "output_type": "execute_result"
    }
   ],
   "source": [
    "embeds = np.array(response)\n",
    "embeds.shape"
   ]
  },
  {
   "cell_type": "markdown",
   "metadata": {},
   "source": [
    "### Create the search index:"
   ]
  },
  {
   "cell_type": "code",
   "execution_count": 25,
   "metadata": {},
   "outputs": [
    {
     "data": {
      "text/plain": [
       "True"
      ]
     },
     "execution_count": 25,
     "metadata": {},
     "output_type": "execute_result"
    }
   ],
   "source": [
    "search_index = AnnoyIndex(f=embeds.shape[1], metric=\"angular\")\n",
    "# Add all vectors to the search index\n",
    "for i in range(len(embeds)):\n",
    "    search_index.add_item(i=i, vector=embeds[i])\n",
    "\n",
    "output_dir = \"./output\"\n",
    "if not os.path.exists(output_dir):\n",
    "    os.makedirs(output_dir)\n",
    "\n",
    "search_index.build(n_trees=10)\n",
    "search_index.save(os.path.join(output_dir, \"test.ann\"))"
   ]
  },
  {
   "cell_type": "code",
   "execution_count": 26,
   "metadata": {},
   "outputs": [],
   "source": [
    "pd.set_option(\"display.max_colwidth\", None)\n",
    "\n",
    "def search(query):\n",
    "    # Get the query's embedding\n",
    "    query_embed = co.embed(texts=[query]).embeddings\n",
    "\n",
    "    # Retrieve the nearest neighbours\n",
    "    similar_item_ids = search_index.get_nns_by_vector(vector=query_embed[0],\n",
    "                                                      n=3,\n",
    "                                                      include_distances=True)\n",
    "    \n",
    "    # Format the results\n",
    "    results = pd.DataFrame(data={\"texts\": texts[similar_item_ids[0]],\n",
    "                                 \"distance\": similar_item_ids[1]})\n",
    "    \n",
    "    return results\n"
   ]
  },
  {
   "cell_type": "code",
   "execution_count": 27,
   "metadata": {},
   "outputs": [
    {
     "data": {
      "text/html": [
       "<div>\n",
       "<style scoped>\n",
       "    .dataframe tbody tr th:only-of-type {\n",
       "        vertical-align: middle;\n",
       "    }\n",
       "\n",
       "    .dataframe tbody tr th {\n",
       "        vertical-align: top;\n",
       "    }\n",
       "\n",
       "    .dataframe thead th {\n",
       "        text-align: right;\n",
       "    }\n",
       "</style>\n",
       "<table border=\"1\" class=\"dataframe\">\n",
       "  <thead>\n",
       "    <tr style=\"text-align: right;\">\n",
       "      <th></th>\n",
       "      <th>texts</th>\n",
       "      <th>distance</th>\n",
       "    </tr>\n",
       "  </thead>\n",
       "  <tbody>\n",
       "    <tr>\n",
       "      <th>0</th>\n",
       "      <td>Interstellar (film) The film had a worldwide gross over $677 million (and $773 million with subsequent re-releases), making it the tenth-highest grossing film of 2014</td>\n",
       "      <td>1.019055</td>\n",
       "    </tr>\n",
       "    <tr>\n",
       "      <th>1</th>\n",
       "      <td>Interstellar (film) Interstellar premiered on October 26, 2014, in Los Angeles</td>\n",
       "      <td>1.144951</td>\n",
       "    </tr>\n",
       "    <tr>\n",
       "      <th>2</th>\n",
       "      <td>Interstellar (film) In the United States, it was first released on film stock, expanding to venues using digital projectors</td>\n",
       "      <td>1.167268</td>\n",
       "    </tr>\n",
       "  </tbody>\n",
       "</table>\n",
       "</div>"
      ],
      "text/plain": [
       "                                                                                                                                                                    texts  \\\n",
       "0  Interstellar (film) The film had a worldwide gross over $677 million (and $773 million with subsequent re-releases), making it the tenth-highest grossing film of 2014   \n",
       "1                                                                                          Interstellar (film) Interstellar premiered on October 26, 2014, in Los Angeles   \n",
       "2                                             Interstellar (film) In the United States, it was first released on film stock, expanding to venues using digital projectors   \n",
       "\n",
       "   distance  \n",
       "0  1.019055  \n",
       "1  1.144951  \n",
       "2  1.167268  "
      ]
     },
     "execution_count": 27,
     "metadata": {},
     "output_type": "execute_result"
    }
   ],
   "source": [
    "query = \"How much did the film make?\"\n",
    "search(query=query)"
   ]
  }
 ],
 "metadata": {
  "kernelspec": {
   "display_name": "py3",
   "language": "python",
   "name": "python3"
  },
  "language_info": {
   "codemirror_mode": {
    "name": "ipython",
    "version": 3
   },
   "file_extension": ".py",
   "mimetype": "text/x-python",
   "name": "python",
   "nbconvert_exporter": "python",
   "pygments_lexer": "ipython3",
   "version": "3.10.9"
  }
 },
 "nbformat": 4,
 "nbformat_minor": 2
}
